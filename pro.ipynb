{
 "cells": [
  {
   "cell_type": "code",
   "execution_count": 2,
   "metadata": {},
   "outputs": [],
   "source": [
    "import numpy as np\n",
    "import pandas as pd\n",
    "from matplotlib import pyplot as plt\n",
    "import seaborn as sns\n",
    "import plotly.express as px \n",
    "from scipy import stats"
   ]
  },
  {
   "cell_type": "code",
   "execution_count": 1,
   "metadata": {},
   "outputs": [],
   "source": [
    "import nltk \n",
    "import spacy\n",
    "import re\n",
    "import PyPDF2"
   ]
  },
  {
   "cell_type": "code",
   "execution_count": 3,
   "metadata": {},
   "outputs": [],
   "source": [
    "nlp=spacy.load('en_core_web_lg')"
   ]
  },
  {
   "cell_type": "code",
   "execution_count": 26,
   "metadata": {},
   "outputs": [
    {
     "name": "stdout",
     "output_type": "stream",
     "text": [
      "lion lion 1.0\n",
      "lion cat 0.3854507803916931\n",
      "lion pet 0.20031584799289703\n",
      "cat lion 0.3854507803916931\n",
      "cat cat 1.0\n",
      "cat pet 0.732966423034668\n",
      "pet lion 0.20031584799289703\n",
      "pet cat 0.732966423034668\n",
      "pet pet 1.0\n"
     ]
    }
   ],
   "source": [
    "doc=nlp(u'The quick brown fox jumped over the lazy dogs')\n",
    "len(doc.vector)\n",
    "tokens=nlp('lion cat pet')\n",
    "for token1 in tokens:\n",
    "    for token2 in tokens:\n",
    "        print(token1.text, token2.text , token1.similarity(token2))"
   ]
  },
  {
   "cell_type": "code",
   "execution_count": 34,
   "metadata": {},
   "outputs": [
    {
     "data": {
      "text/plain": [
       "0.4260278558557243"
      ]
     },
     "execution_count": 34,
     "metadata": {},
     "output_type": "execute_result"
    }
   ],
   "source": [
    "nlp('car').similarity(nlp('skoda'))"
   ]
  },
  {
   "cell_type": "code",
   "execution_count": 4,
   "metadata": {},
   "outputs": [
    {
     "name": "stdout",
     "output_type": "stream",
     "text": [
      "________________________________________________________________________________________________________________________________________________________________________________________________________\n"
     ]
    }
   ],
   "source": [
    "print(200*'_')"
   ]
  },
  {
   "cell_type": "code",
   "execution_count": 51,
   "metadata": {},
   "outputs": [],
   "source": [
    "sentences = \"\"\"We are about to study the idea of a computational process.\n",
    "Computational processes are abstract beings that inhabit computers.\n",
    "As they evolve, processes manipulate other abstract things called data.\n",
    "The evolution of a process is directed by a pattern of rules\n",
    "called a program. People create programs to direct processes. In effect,\n",
    "we conjure the spirits of the computer with our spells.\"\"\""
   ]
  },
  {
   "cell_type": "code",
   "execution_count": 52,
   "metadata": {},
   "outputs": [
    {
     "data": {
      "text/plain": [
       "'We are about to study the idea of a computational process Computational processes are abstract beings that inhabit computers As they evolve processes manipulate other abstract things called data The evolution of a process is directed by a pattern of rules called a program People create programs to direct processes In effect we conjure the spirits of the computer with our spells '"
      ]
     },
     "execution_count": 52,
     "metadata": {},
     "output_type": "execute_result"
    }
   ],
   "source": [
    "sentences = re.sub('[^A-Za-z0-9]+', ' ', sentences)\n",
    "sentences"
   ]
  },
  {
   "cell_type": "code",
   "execution_count": 53,
   "metadata": {},
   "outputs": [
    {
     "data": {
      "text/plain": [
       "'We are about to study the idea of computational process Computational processes are abstract beings that inhabit computers As they evolve processes manipulate other abstract things called data The evolution of process is directed by pattern of rules called program People create programs to direct processes In effect we conjure the spirits of the computer with our spells'"
      ]
     },
     "execution_count": 53,
     "metadata": {},
     "output_type": "execute_result"
    }
   ],
   "source": [
    "sentences = re.sub(r'(?:^| )\\w(?:$| )', ' ', sentences).strip()\n",
    "sentences"
   ]
  },
  {
   "cell_type": "code",
   "execution_count": 54,
   "metadata": {},
   "outputs": [],
   "source": [
    "sentences=sentences.lower()"
   ]
  },
  {
   "cell_type": "code",
   "execution_count": 55,
   "metadata": {},
   "outputs": [
    {
     "data": {
      "text/plain": [
       "['we',\n",
       " 'are',\n",
       " 'about',\n",
       " 'to',\n",
       " 'study',\n",
       " 'the',\n",
       " 'idea',\n",
       " 'of',\n",
       " 'computational',\n",
       " 'process',\n",
       " 'computational',\n",
       " 'processes',\n",
       " 'are',\n",
       " 'abstract',\n",
       " 'beings',\n",
       " 'that',\n",
       " 'inhabit',\n",
       " 'computers',\n",
       " 'as',\n",
       " 'they',\n",
       " 'evolve',\n",
       " 'processes',\n",
       " 'manipulate',\n",
       " 'other',\n",
       " 'abstract',\n",
       " 'things',\n",
       " 'called',\n",
       " 'data',\n",
       " 'the',\n",
       " 'evolution',\n",
       " 'of',\n",
       " 'process',\n",
       " 'is',\n",
       " 'directed',\n",
       " 'by',\n",
       " 'pattern',\n",
       " 'of',\n",
       " 'rules',\n",
       " 'called',\n",
       " 'program',\n",
       " 'people',\n",
       " 'create',\n",
       " 'programs',\n",
       " 'to',\n",
       " 'direct',\n",
       " 'processes',\n",
       " 'in',\n",
       " 'effect',\n",
       " 'we',\n",
       " 'conjure',\n",
       " 'the',\n",
       " 'spirits',\n",
       " 'of',\n",
       " 'the',\n",
       " 'computer',\n",
       " 'with',\n",
       " 'our',\n",
       " 'spells']"
      ]
     },
     "execution_count": 55,
     "metadata": {},
     "output_type": "execute_result"
    }
   ],
   "source": [
    "from nltk.tokenize import word_tokenize \n",
    "words=word_tokenize(sentences)\n",
    "words"
   ]
  },
  {
   "cell_type": "code",
   "execution_count": 56,
   "metadata": {},
   "outputs": [
    {
     "data": {
      "text/plain": [
       "['we',\n",
       " 'are',\n",
       " 'about',\n",
       " 'to',\n",
       " 'study',\n",
       " 'the',\n",
       " 'idea',\n",
       " 'of',\n",
       " 'computational',\n",
       " 'process',\n",
       " 'computational',\n",
       " 'processes',\n",
       " 'are',\n",
       " 'abstract',\n",
       " 'beings',\n",
       " 'that',\n",
       " 'inhabit',\n",
       " 'computers',\n",
       " 'as',\n",
       " 'they',\n",
       " 'evolve',\n",
       " 'processes',\n",
       " 'manipulate',\n",
       " 'other',\n",
       " 'abstract',\n",
       " 'things',\n",
       " 'called',\n",
       " 'data',\n",
       " 'the',\n",
       " 'evolution',\n",
       " 'of',\n",
       " 'process',\n",
       " 'is',\n",
       " 'directed',\n",
       " 'by',\n",
       " 'pattern',\n",
       " 'of',\n",
       " 'rules',\n",
       " 'called',\n",
       " 'program',\n",
       " 'people',\n",
       " 'create',\n",
       " 'programs',\n",
       " 'to',\n",
       " 'direct',\n",
       " 'processes',\n",
       " 'in',\n",
       " 'effect',\n",
       " 'we',\n",
       " 'conjure',\n",
       " 'the',\n",
       " 'spirits',\n",
       " 'of',\n",
       " 'the',\n",
       " 'computer',\n",
       " 'with',\n",
       " 'our',\n",
       " 'spells']"
      ]
     },
     "execution_count": 56,
     "metadata": {},
     "output_type": "execute_result"
    }
   ],
   "source": [
    "vocab=set(words)\n",
    "words"
   ]
  },
  {
   "cell_type": "code",
   "execution_count": 57,
   "metadata": {},
   "outputs": [],
   "source": [
    "vocab_size=len(vocab)\n",
    "embad_dim=10\n",
    "context_size=3"
   ]
  },
  {
   "cell_type": "code",
   "execution_count": 58,
   "metadata": {},
   "outputs": [
    {
     "data": {
      "text/plain": [
       "{'they': 0,\n",
       " 'evolve': 1,\n",
       " 'about': 2,\n",
       " 'inhabit': 3,\n",
       " 'computational': 4,\n",
       " 'of': 5,\n",
       " 'create': 6,\n",
       " 'direct': 7,\n",
       " 'by': 8,\n",
       " 'the': 9,\n",
       " 'process': 10,\n",
       " 'effect': 11,\n",
       " 'is': 12,\n",
       " 'abstract': 13,\n",
       " 'manipulate': 14,\n",
       " 'we': 15,\n",
       " 'spirits': 16,\n",
       " 'in': 17,\n",
       " 'spells': 18,\n",
       " 'with': 19,\n",
       " 'our': 20,\n",
       " 'beings': 21,\n",
       " 'people': 22,\n",
       " 'program': 23,\n",
       " 'data': 24,\n",
       " 'as': 25,\n",
       " 'that': 26,\n",
       " 'idea': 27,\n",
       " 'other': 28,\n",
       " 'evolution': 29,\n",
       " 'to': 30,\n",
       " 'directed': 31,\n",
       " 'rules': 32,\n",
       " 'things': 33,\n",
       " 'processes': 34,\n",
       " 'programs': 35,\n",
       " 'are': 36,\n",
       " 'conjure': 37,\n",
       " 'study': 38,\n",
       " 'pattern': 39,\n",
       " 'computer': 40,\n",
       " 'computers': 41,\n",
       " 'called': 42}"
      ]
     },
     "execution_count": 58,
     "metadata": {},
     "output_type": "execute_result"
    }
   ],
   "source": [
    "word_to_ix={word:i for i ,word in enumerate(vocab)}\n",
    "word_to_ix"
   ]
  },
  {
   "cell_type": "code",
   "execution_count": 85,
   "metadata": {},
   "outputs": [
    {
     "data": {
      "text/plain": [
       "{0: 'they',\n",
       " 1: 'evolve',\n",
       " 2: 'about',\n",
       " 3: 'inhabit',\n",
       " 4: 'computational',\n",
       " 5: 'of',\n",
       " 6: 'create',\n",
       " 7: 'direct',\n",
       " 8: 'by',\n",
       " 9: 'the',\n",
       " 10: 'process',\n",
       " 11: 'effect',\n",
       " 12: 'is',\n",
       " 13: 'abstract',\n",
       " 14: 'manipulate',\n",
       " 15: 'we',\n",
       " 16: 'spirits',\n",
       " 17: 'in',\n",
       " 18: 'spells',\n",
       " 19: 'with',\n",
       " 20: 'our',\n",
       " 21: 'beings',\n",
       " 22: 'people',\n",
       " 23: 'program',\n",
       " 24: 'data',\n",
       " 25: 'as',\n",
       " 26: 'that',\n",
       " 27: 'idea',\n",
       " 28: 'other',\n",
       " 29: 'evolution',\n",
       " 30: 'to',\n",
       " 31: 'directed',\n",
       " 32: 'rules',\n",
       " 33: 'things',\n",
       " 34: 'processes',\n",
       " 35: 'programs',\n",
       " 36: 'are',\n",
       " 37: 'conjure',\n",
       " 38: 'study',\n",
       " 39: 'pattern',\n",
       " 40: 'computer',\n",
       " 41: 'computers',\n",
       " 42: 'called'}"
      ]
     },
     "execution_count": 85,
     "metadata": {},
     "output_type": "execute_result"
    }
   ],
   "source": [
    "ix_to_word={i:word for i,word in enumerate(vocab)}\n",
    "ix_to_word"
   ]
  },
  {
   "cell_type": "code",
   "execution_count": 60,
   "metadata": {},
   "outputs": [
    {
     "data": {
      "text/plain": [
       "'We are about to study the idea of a computational process.\\nComputational processes are abstract beings that inhabit computers.\\nAs they evolve, processes manipulate other abstract things called data.\\nThe evolution of a process is directed by a pattern of rules\\ncalled a program. People create programs to direct processes. In effect,\\nwe conjure the spirits of the computer with our spells.'"
      ]
     },
     "execution_count": 60,
     "metadata": {},
     "output_type": "execute_result"
    }
   ],
   "source": [
    " \"\"\"We are about to study the idea of a computational process.\n",
    "Computational processes are abstract beings that inhabit computers.\n",
    "As they evolve, processes manipulate other abstract things called data.\n",
    "The evolution of a process is directed by a pattern of rules\n",
    "called a program. People create programs to direct processes. In effect,\n",
    "we conjure the spirits of the computer with our spells.\"\"\""
   ]
  },
  {
   "cell_type": "code",
   "execution_count": 61,
   "metadata": {},
   "outputs": [],
   "source": [
    "vocab_size=len(vocab)\n",
    "embad_dim=10\n",
    "context_size=2"
   ]
  },
  {
   "cell_type": "code",
   "execution_count": 62,
   "metadata": {},
   "outputs": [
    {
     "name": "stdout",
     "output_type": "stream",
     "text": [
      "[(['we', 'are', 'to', 'study'], 'about'), (['are', 'about', 'study', 'the'], 'to'), (['about', 'to', 'the', 'idea'], 'study'), (['to', 'study', 'idea', 'of'], 'the'), (['study', 'the', 'of', 'computational'], 'idea')]\n"
     ]
    }
   ],
   "source": [
    "data=[]\n",
    "for i in range(context_size,len(words)-context_size):\n",
    "    context=[words[i-context_size],words[i-1],words[i+1],words[i+context_size]]\n",
    "    target=words[i]\n",
    "    data.append((context,target))\n",
    "print(data[:5])"
   ]
  },
  {
   "cell_type": "code",
   "execution_count": 75,
   "metadata": {},
   "outputs": [
    {
     "name": "stdout",
     "output_type": "stream",
     "text": [
      "(43, 10)\n"
     ]
    },
    {
     "data": {
      "text/plain": [
       "array([[0.58540866, 0.8508296 , 0.12172078, 0.21652757, 0.65362304,\n",
       "        0.33802296, 0.61789957, 0.8316153 , 0.57606163, 0.75608691],\n",
       "       [0.75665863, 0.60293675, 0.6187916 , 0.94846307, 0.94770778,\n",
       "        0.26742087, 0.79572826, 0.59545285, 0.34633985, 0.52490355],\n",
       "       [0.05469767, 0.96632671, 0.47993564, 0.87962833, 0.8959219 ,\n",
       "        0.52947044, 0.29171144, 0.56510572, 0.80952007, 0.11929729],\n",
       "       [0.66926843, 0.41984069, 0.2325018 , 0.01940454, 0.53353079,\n",
       "        0.15300859, 0.79930443, 0.18497893, 0.23723324, 0.51091582],\n",
       "       [0.29646909, 0.39381492, 0.91118523, 0.60889438, 0.88529913,\n",
       "        0.91462143, 0.33129799, 0.83098895, 0.90826171, 0.64114357],\n",
       "       [0.52508648, 0.14463599, 0.34693699, 0.41064647, 0.90900129,\n",
       "        0.89775754, 0.11740969, 0.66244752, 0.02344018, 0.92993409],\n",
       "       [0.531833  , 0.08880022, 0.19312345, 0.78183317, 0.48896747,\n",
       "        0.53134942, 0.03378305, 0.8108566 , 0.98351715, 0.08115525],\n",
       "       [0.82486342, 0.49029454, 0.23773471, 0.15929072, 0.38735164,\n",
       "        0.70564225, 0.24873878, 0.32236762, 0.84676593, 0.10437701],\n",
       "       [0.12841178, 0.0435733 , 0.68204407, 0.51369195, 0.23502473,\n",
       "        0.19656986, 0.13426846, 0.33821894, 0.64296294, 0.44119557],\n",
       "       [0.01411983, 0.75552919, 0.89733304, 0.58426686, 0.22372456,\n",
       "        0.32703978, 0.60999307, 0.77435589, 0.35904949, 0.90881889],\n",
       "       [0.48546802, 0.94507093, 0.65592286, 0.7490061 , 0.94453171,\n",
       "        0.81174486, 0.6954276 , 0.60772728, 0.09357918, 0.90243404],\n",
       "       [0.84962988, 0.91809764, 0.11763745, 0.93675154, 0.31217915,\n",
       "        0.09129489, 0.80050675, 0.80287151, 0.14971262, 0.64849474],\n",
       "       [0.17654938, 0.13618417, 0.8371152 , 0.53521235, 0.86489884,\n",
       "        0.67450695, 0.4556346 , 0.25951134, 0.75646147, 0.31954754],\n",
       "       [0.57253078, 0.82183475, 0.12088908, 0.9637562 , 0.16811398,\n",
       "        0.06354627, 0.10789365, 0.0091809 , 0.28714556, 0.12182266],\n",
       "       [0.76976917, 0.64961398, 0.84510457, 0.64566566, 0.29527215,\n",
       "        0.75042603, 0.872912  , 0.29850081, 0.37570474, 0.5946162 ],\n",
       "       [0.6347949 , 0.68112943, 0.61171163, 0.52606788, 0.88932483,\n",
       "        0.78925123, 0.22658128, 0.04962389, 0.19739067, 0.77506491],\n",
       "       [0.7715116 , 0.93992978, 0.41407227, 0.87308239, 0.12843289,\n",
       "        0.61518376, 0.22954762, 0.83937648, 0.54730752, 0.77682845],\n",
       "       [0.63213485, 0.77371766, 0.92702328, 0.19802626, 0.06203923,\n",
       "        0.8192513 , 0.04103838, 0.10707484, 0.90595747, 0.47733627],\n",
       "       [0.29781665, 0.74975666, 0.98000134, 0.98201977, 0.92393402,\n",
       "        0.43244751, 0.57424498, 0.46961685, 0.49108611, 0.56529257],\n",
       "       [0.11814146, 0.21644528, 0.0109428 , 0.01275363, 0.90819499,\n",
       "        0.63852395, 0.94548578, 0.23355293, 0.63061592, 0.71581472],\n",
       "       [0.84977543, 0.91721993, 0.41390907, 0.18121389, 0.25039914,\n",
       "        0.06289875, 0.59727865, 0.81557601, 0.3196551 , 0.47096301],\n",
       "       [0.67705083, 0.87890217, 0.27433414, 0.88378536, 0.30400235,\n",
       "        0.53027221, 0.89391439, 0.36352151, 0.92196982, 0.07461066],\n",
       "       [0.87588309, 0.34118609, 0.73785392, 0.97432595, 0.35416778,\n",
       "        0.56202602, 0.40795885, 0.1047935 , 0.7094319 , 0.05089801],\n",
       "       [0.77371113, 0.50069188, 0.96702769, 0.17888947, 0.59477748,\n",
       "        0.51708666, 0.62591361, 0.05095017, 0.04737966, 0.05355352],\n",
       "       [0.54729164, 0.17750518, 0.71794221, 0.40837651, 0.46444916,\n",
       "        0.76098654, 0.02830042, 0.22622058, 0.59056131, 0.56337873],\n",
       "       [0.3678383 , 0.4858771 , 0.17866384, 0.95532726, 0.71369011,\n",
       "        0.4472328 , 0.90021988, 0.51153779, 0.02004284, 0.73808127],\n",
       "       [0.82438172, 0.88966013, 0.8258402 , 0.27417324, 0.74706693,\n",
       "        0.12703275, 0.47215777, 0.2124029 , 0.29711177, 0.90256932],\n",
       "       [0.67960959, 0.45179373, 0.31982698, 0.14442319, 0.66319585,\n",
       "        0.17069907, 0.06794624, 0.50168513, 0.73378141, 0.2471162 ],\n",
       "       [0.55514613, 0.14784709, 0.82617617, 0.98648186, 0.81608012,\n",
       "        0.7571742 , 0.50029115, 0.24532085, 0.68433143, 0.76491396],\n",
       "       [0.80802529, 0.94871776, 0.834838  , 0.30501842, 0.15247994,\n",
       "        0.29825881, 0.74187385, 0.95191166, 0.50141   , 0.35642069],\n",
       "       [0.78991491, 0.34437199, 0.81297736, 0.0467116 , 0.83859966,\n",
       "        0.87003681, 0.67943611, 0.3050923 , 0.11278268, 0.01773444],\n",
       "       [0.74846263, 0.68428407, 0.69871461, 0.4525733 , 0.20588714,\n",
       "        0.58264185, 0.79315757, 0.43270576, 0.66423363, 0.01381834],\n",
       "       [0.77163806, 0.61773465, 0.35852741, 0.1491245 , 0.09632651,\n",
       "        0.78811413, 0.87243669, 0.97618352, 0.93372416, 0.9729638 ],\n",
       "       [0.86838913, 0.46189153, 0.30555958, 0.26783309, 0.69399553,\n",
       "        0.93500698, 0.7832737 , 0.43833419, 0.48493552, 0.35477657],\n",
       "       [0.57340692, 0.82371978, 0.85744317, 0.43975785, 0.34907682,\n",
       "        0.83174534, 0.58171204, 0.96551651, 0.98032183, 0.33525694],\n",
       "       [0.73880796, 0.15363708, 0.65907143, 0.03016259, 0.86273662,\n",
       "        0.90457085, 0.22898685, 0.32853044, 0.20866851, 0.43590663],\n",
       "       [0.98297733, 0.89652118, 0.9210299 , 0.2491935 , 0.6461304 ,\n",
       "        0.9688121 , 0.22759457, 0.80328077, 0.29658234, 0.11202211],\n",
       "       [0.53431104, 0.98377298, 0.20540961, 0.92549179, 0.19547355,\n",
       "        0.80364532, 0.01326284, 0.03054247, 0.09894075, 0.8159215 ],\n",
       "       [0.11516735, 0.89242207, 0.0326152 , 0.49500398, 0.55546869,\n",
       "        0.64500815, 0.61480227, 0.708751  , 0.85703181, 0.57690025],\n",
       "       [0.74473353, 0.39102516, 0.80563138, 0.80335244, 0.34365868,\n",
       "        0.70798349, 0.35232555, 0.72398646, 0.85937525, 0.05273147],\n",
       "       [0.27926903, 0.17511326, 0.99498969, 0.27518487, 0.72099458,\n",
       "        0.96942911, 0.86731258, 0.81796426, 0.63899078, 0.28786547],\n",
       "       [0.43394979, 0.25574445, 0.79390551, 0.84560592, 0.11410292,\n",
       "        0.5254626 , 0.94462751, 0.21433042, 0.55161393, 0.81230722],\n",
       "       [0.22923997, 0.46281386, 0.57056135, 0.19194044, 0.96978242,\n",
       "        0.11153358, 0.37188527, 0.86710248, 0.67375087, 0.34776029]])"
      ]
     },
     "execution_count": 75,
     "metadata": {},
     "output_type": "execute_result"
    }
   ],
   "source": [
    "embeddings =  np.random.random_sample((vocab_size, embad_dim))\n",
    "print(embeddings.shape)\n",
    "embeddings\n"
   ]
  },
  {
   "cell_type": "markdown",
   "metadata": {},
   "source": [
    "## linear model"
   ]
  },
  {
   "cell_type": "code",
   "execution_count": 64,
   "metadata": {},
   "outputs": [],
   "source": [
    "def linear(m, theta):\n",
    "    w = theta\n",
    "    return m.dot(w)"
   ]
  },
  {
   "cell_type": "markdown",
   "metadata": {},
   "source": [
    "### Log softmax + Nlloss = Cross Entropy"
   ]
  },
  {
   "cell_type": "code",
   "execution_count": 81,
   "metadata": {},
   "outputs": [],
   "source": [
    "def log_softmax(x):\n",
    "    e_x = np.exp(x - np.max(x))\n",
    "    return np.log(e_x / e_x.sum())"
   ]
  },
  {
   "cell_type": "code",
   "execution_count": 66,
   "metadata": {},
   "outputs": [],
   "source": [
    "def NLLLoss(logs, targets):\n",
    "    out = logs[range(len(targets)), targets]\n",
    "    return -out.sum()/len(out)"
   ]
  },
  {
   "cell_type": "code",
   "execution_count": 67,
   "metadata": {},
   "outputs": [],
   "source": [
    "def log_softmax_crossentropy_with_logits(logits,target):\n",
    "\n",
    "    out = np.zeros_like(logits)\n",
    "    out[np.arange(len(logits)),target] = 1\n",
    "    \n",
    "    softmax = np.exp(logits) / np.exp(logits).sum(axis=-1,keepdims=True)\n",
    "    \n",
    "    return (- out + softmax) / logits.shape[0]"
   ]
  },
  {
   "cell_type": "markdown",
   "metadata": {},
   "source": [
    "### forward fun"
   ]
  },
  {
   "cell_type": "code",
   "execution_count": 82,
   "metadata": {},
   "outputs": [],
   "source": [
    "def forward(context_idxs, theta):\n",
    "    m = embeddings[context_idxs].reshape(1, -1)\n",
    "    n = linear(m, theta)\n",
    "    o = log_softmax(n)\n",
    "    return m, n, o\n"
   ]
  },
  {
   "cell_type": "markdown",
   "metadata": {},
   "source": [
    "### back fun"
   ]
  },
  {
   "cell_type": "code",
   "execution_count": 77,
   "metadata": {},
   "outputs": [],
   "source": [
    "def backward(preds, theta, target_idxs):\n",
    "    m, n, o = preds\n",
    "    dlog = log_softmax_crossentropy_with_logits(n, target_idxs)\n",
    "    dw = m.T.dot(dlog)\n",
    "    return dw"
   ]
  },
  {
   "cell_type": "markdown",
   "metadata": {},
   "source": [
    "### optimize fun"
   ]
  },
  {
   "cell_type": "code",
   "execution_count": 78,
   "metadata": {},
   "outputs": [],
   "source": [
    "def optimize(theta, grad, lr=0.03):\n",
    "    theta -= grad * lr\n",
    "    return theta"
   ]
  },
  {
   "cell_type": "markdown",
   "metadata": {},
   "source": [
    "### training fun"
   ]
  },
  {
   "cell_type": "code",
   "execution_count": 79,
   "metadata": {},
   "outputs": [],
   "source": [
    "theta = np.random.uniform(-1, 1, (2 * context_size * embad_dim, vocab_size))\n"
   ]
  },
  {
   "cell_type": "code",
   "execution_count": 83,
   "metadata": {},
   "outputs": [],
   "source": [
    "epoch_losses = {}\n",
    "\n",
    "for epoch in range(80):\n",
    "\n",
    "    losses =  []\n",
    "\n",
    "    for context, target in data:\n",
    "        context_idxs = np.array([word_to_ix[w] for w in context])\n",
    "        preds = forward(context_idxs, theta)\n",
    "\n",
    "        target_idxs = np.array([word_to_ix[target]])\n",
    "        loss = NLLLoss(preds[-1], target_idxs)\n",
    "\n",
    "        losses.append(loss)\n",
    "\n",
    "        grad = backward(preds, theta, target_idxs)\n",
    "        theta = optimize(theta, grad, lr=0.03)\n",
    "        \n",
    "     \n",
    "    epoch_losses[epoch] = losses"
   ]
  },
  {
   "cell_type": "code",
   "execution_count": 84,
   "metadata": {},
   "outputs": [
    {
     "data": {
      "text/plain": [
       "Text(0, 0.5, 'Losses')"
      ]
     },
     "execution_count": 84,
     "metadata": {},
     "output_type": "execute_result"
    },
    {
     "data": {
      "image/png": "[encoded data removed]",
      "text/plain": [
       "<Figure size 640x480 with 1 Axes>"
      ]
     },
     "metadata": {},
     "output_type": "display_data"
    }
   ],
   "source": [
    "ix = np.arange(0,80)\n",
    "\n",
    "fig = plt.figure()\n",
    "fig.suptitle('Epoch/Losses', fontsize=20)\n",
    "plt.plot(ix,[epoch_losses[i][0] for i in ix])\n",
    "plt.xlabel('Epochs', fontsize=12)\n",
    "plt.ylabel('Losses', fontsize=12)"
   ]
  },
  {
   "cell_type": "code",
   "execution_count": 86,
   "metadata": {},
   "outputs": [],
   "source": [
    "def predict(words):\n",
    "    context_idxs = np.array([word_to_ix[w] for w in words])\n",
    "    preds = forward(context_idxs, theta)\n",
    "    word = ix_to_word[np.argmax(preds[-1])]\n",
    "    \n",
    "    return word"
   ]
  },
  {
   "cell_type": "code",
   "execution_count": 89,
   "metadata": {},
   "outputs": [
    {
     "data": {
      "text/plain": [
       "'about'"
      ]
     },
     "execution_count": 89,
     "metadata": {},
     "output_type": "execute_result"
    }
   ],
   "source": [
    "predict(['we', 'are', 'to', 'study'])\n"
   ]
  },
  {
   "cell_type": "code",
   "execution_count": 90,
   "metadata": {},
   "outputs": [],
   "source": [
    "\n",
    "def accuracy():\n",
    "    wrong = 0\n",
    "\n",
    "    for context, target in data:\n",
    "        if(predict(context) != target):\n",
    "            wrong += 1\n",
    "            \n",
    "    return (1 - (wrong / len(data)))"
   ]
  },
  {
   "cell_type": "code",
   "execution_count": 91,
   "metadata": {},
   "outputs": [
    {
     "data": {
      "text/plain": [
       "1.0"
      ]
     },
     "execution_count": 91,
     "metadata": {},
     "output_type": "execute_result"
    }
   ],
   "source": [
    "accuracy()\n"
   ]
  }
 ],
 "metadata": {
  "kernelspec": {
   "display_name": "Python 3",
   "language": "python",
   "name": "python3"
  },
  "language_info": {
   "codemirror_mode": {
    "name": "ipython",
    "version": 3
   },
   "file_extension": ".py",
   "mimetype": "text/x-python",
   "name": "python",
   "nbconvert_exporter": "python",
   "pygments_lexer": "ipython3",
   "version": "3.12.1"
  }
 },
 "nbformat": 4,
 "nbformat_minor": 2
}
